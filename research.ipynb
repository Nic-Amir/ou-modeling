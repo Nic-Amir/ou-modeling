{
 "cells": [
  {
   "cell_type": "code",
   "execution_count": 197,
   "metadata": {},
   "outputs": [],
   "source": [
    "import math\n",
    "from math import sqrt, exp, log  # exp(n) == e^n, log(n) == ln(n)\n",
    "import scipy.optimize as so\n",
    "import numpy as np\n",
    "\n",
    "def compute_log_likelihood(params, *args):\n",
    "    '''\n",
    "    Compute the average Log Likelihood, this function will by minimized by scipy.\n",
    "    Find in (2.2) in linked paper\n",
    "\n",
    "    returns: the average log likelihood from given parameters\n",
    "    '''\n",
    "    # functions passed into scipy's minimize() needs accept one parameter, a tuple of\n",
    "    #   of values that we adjust to minimize the value we return.\n",
    "    #   optionally, *args can be passed, which are values we don't change, but still want\n",
    "    #   to use in our function (e.g. the measured heights in our sample or the value Pi)\n",
    "\n",
    "    theta, mu, sigma = params\n",
    "    X, dt = args\n",
    "    n = len(X)\n",
    "\n",
    "    sigma_tilde_squared = sigma ** 2 * (1 - exp(-2 * mu * dt)) / (2 * mu)\n",
    "    summation_term = 0\n",
    "\n",
    "    for i in range(1, len(X)):\n",
    "        summation_term += (X[i] - X[i - 1] * exp(-mu * dt) - theta * (1 - exp(-mu * dt))) ** 2\n",
    "\n",
    "    summation_term = -summation_term / (2 * n * sigma_tilde_squared)\n",
    "\n",
    "    log_likelihood = (-log(2 * math.pi) / 2) + (-log(sqrt(sigma_tilde_squared))) + summation_term\n",
    "\n",
    "    return -log_likelihood\n",
    "    # since we want to maximize this total log likelihood, we need to minimize the\n",
    "    #   negation of the this value (scipy doesn't support maximize)\n",
    "\n",
    "\n",
    "def estimate_coefficients_MLE(X, dt, tol=1e-10):\n",
    "    '''\n",
    "    Estimates Ornstein-Uhlenbeck coefficients (θ, µ, σ) of the given array\n",
    "    using the Maximum Likelihood Estimation method\n",
    "\n",
    "    input: X - array-like time series data to be fit as an OU process\n",
    "           dt - time increment (1 / days(start date - end date))\n",
    "           tol - tolerance for determination (smaller tolerance means higher precision)\n",
    "    returns: θ, µ, σ, Average Log Likelihood\n",
    "    '''\n",
    "\n",
    "    bounds = ((None, None), (1e-5, None), (1e-5, None))  # theta ∈ ℝ, mu > 0, sigma > 0\n",
    "                                                           # we need 1e-10 b/c scipy bounds are inclusive of 0, \n",
    "                                                           # and sigma = 0 causes division by 0 error\n",
    "    theta_init = np.mean(X)\n",
    "    initial_guess = (theta_init, 100, 100)  # initial guesses for theta, mu, sigma\n",
    "    result = so.minimize(compute_log_likelihood, initial_guess, args=(X, dt), bounds=bounds, tol=tol)\n",
    "    theta, mu, sigma = result.x \n",
    "    max_log_likelihood = -result.fun  # undo negation from __compute_log_likelihood\n",
    "    # .x gets the optimized parameters, .fun gets the optimized value\n",
    "    return theta, mu, sigma, max_log_likelihood"
   ]
  },
  {
   "cell_type": "code",
   "execution_count": 198,
   "metadata": {},
   "outputs": [],
   "source": [
    "def compute_portfolio_values(ts_A, ts_B, alloc_B):\n",
    "    '''\n",
    "    Compute the portfolio values over time when holding $1 of stock A \n",
    "    and -$alloc_B of stock B\n",
    "    \n",
    "    input: ts_A - time-series of price data of stock A,\n",
    "           ts_B - time-series of price data of stock B\n",
    "    outputs: Portfolio values of holding $1 of stock A and -$alloc_B of stock B\n",
    "    '''\n",
    "    \n",
    "    ts_A = ts_A.copy()  # defensive programming\n",
    "    ts_B = ts_B.copy()\n",
    "    \n",
    "    ts_A = ts_A / ts_A[0]\n",
    "    ts_B = ts_B / ts_B[0]\n",
    "    return ts_A - alloc_B * ts_B"
   ]
  },
  {
   "cell_type": "code",
   "execution_count": 199,
   "metadata": {},
   "outputs": [],
   "source": [
    "def arg_max_B_alloc(ts_A, ts_B, dt):\n",
    "    '''\n",
    "    Finds the $ allocation ratio to stock B to maximize the log likelihood\n",
    "    from the fit of portfolio values to an OU process\n",
    "\n",
    "    input: ts_A - time-series of price data of stock A,\n",
    "           ts_B - time-series of price data of stock B\n",
    "           dt - time increment (1 / days(start date - end date))\n",
    "    returns: θ*, µ*, σ*, B*\n",
    "    '''\n",
    "    \n",
    "    theta = mu = sigma = alloc_B = 0\n",
    "    max_log_likelihood = 0\n",
    "\n",
    "    def compute_coefficients(x):\n",
    "        portfolio_values = compute_portfolio_values(ts_A, ts_B, x)\n",
    "        return estimate_coefficients_MLE(portfolio_values, dt)\n",
    "    \n",
    "    vectorized = np.vectorize(compute_coefficients)\n",
    "    linspace = np.linspace(.01, 1, 100)\n",
    "    res = vectorized(linspace)\n",
    "    index = res[3].argmax()\n",
    "    \n",
    "    return res[0][index], res[1][index], res[2][index], linspace[index]\n"
   ]
  },
  {
   "cell_type": "code",
   "execution_count": 200,
   "metadata": {},
   "outputs": [],
   "source": [
    "from math import sqrt, exp\n",
    "import scipy.integrate as si\n",
    "import scipy.optimize as so\n",
    "import numpy as np\n",
    "\n",
    "def Prime(f, x, theta, mu, sigma, r, h=1e-5):\n",
    "    # given f, estimates f'(x) using the difference quotient formula \n",
    "    # WARNING: LOWER h VALUES CAN LEAD TO WEIRD RESULTS\n",
    "    return (f(x+h, theta, mu, sigma, r) - f(x, theta, mu, sigma, r)) / h \n",
    "\n",
    "def Prime2(f, x, theta, mu, sigma, r, c, h=1e-5):\n",
    "    # given f, estimates f'(x) using the difference quotient formula \n",
    "    # WARNING: LOWER h VALUES CAN LEAD TO WEIRD RESULTS\n",
    "    return (f(x+h, theta, mu, sigma, r, c) - f(x, theta, mu, sigma, r, c)) / h \n",
    "\n",
    "def F(x, theta, mu, sigma, r):\n",
    "    # equation 3.3\n",
    "    def integrand(u):\n",
    "        return u**(r/mu - 1) * exp(sqrt(2*mu / sigma**2) * (x-theta)*u - u**2/2)\n",
    "    return si.quad(integrand, 0, np.inf)[0]\n",
    "\n",
    "def G(x, theta, mu, sigma, r):\n",
    "    # equation 3.4\n",
    "    def integrand(u):\n",
    "        return u**(r/mu - 1) * exp(sqrt(2*mu / sigma**2) * (theta-x)*u - u**2/2)\n",
    "    return si.quad(integrand, 0, np.inf)[0]\n",
    "\n",
    "def b_star(theta, mu, sigma, r, c):\n",
    "    # estimates b* using equation 4.3\n",
    "    # def opt_func(b):\n",
    "    #     # equation 4.3 in the paper with terms moved to one side\n",
    "    #     return abs(F(b, theta, mu, sigma, r) - (b-c)*Prime(F, b, theta, mu, sigma, r))\n",
    "    # bounds = ((.01, .99),)\n",
    "    # result = so.minimize(opt_func, .5, bounds=bounds)\n",
    "\n",
    "    b_space = np.linspace(0.1,0.9, 801)\n",
    "    def func(b):\n",
    "        return F(b, theta, mu, sigma, r) - (b-c)*Prime(F, b, theta, mu, sigma, r)\n",
    "    \n",
    "    return so.brentq(func, 0, 1)\n",
    "\n",
    "def V(x, theta, mu, sigma, r, c):\n",
    "    # OUR SELL SIGNAL\n",
    "    # equation 4.2, solution of equation posed by 2.3\n",
    "    \n",
    "    b_star_val = b_star(theta, mu, sigma, r, c)\n",
    "    \n",
    "    if x < b_star_val:\n",
    "        return (b_star_val - c) * F(x, theta, mu, sigma, r) / F(b_star_val, theta, mu, sigma, r)\n",
    "    else:\n",
    "        return x - c\n",
    "\n",
    "def d_star(theta, mu, sigma, r, c):\n",
    "    # estimates d* using equation 4.11\n",
    "  \n",
    "    def func(d):\n",
    "        return (G(d, theta, mu, sigma, r) * (Prime2(V, d, theta, mu, sigma, r, c) - 1)) - (Prime(G, d, theta, mu, sigma, r) * (V(d, theta, mu, sigma, r, c) - d - c))\n",
    "\n",
    "    \n",
    "\n",
    "    # finds the root between the interval [0, 1]\n",
    "    return so.brentq(func, -0.1, +0.1)"
   ]
  },
  {
   "cell_type": "code",
   "execution_count": 201,
   "metadata": {},
   "outputs": [],
   "source": [
    "import numpy as np\n",
    "import pandas as pd\n",
    "\n",
    "df = pd.read_csv(\"USDCHF-sigma1.0-5-10-10-10-4.csv\")\n",
    "df[\"ts\"] = pd.to_datetime(df[\"Unnamed: 0\"])\n",
    "df = df.set_index(\"ts\")\n"
   ]
  },
  {
   "cell_type": "code",
   "execution_count": 202,
   "metadata": {},
   "outputs": [
    {
     "name": "stderr",
     "output_type": "stream",
     "text": [
      "/tmp/ipykernel_23677/2193820817.py:1: FutureWarning: The default value of numeric_only in DataFrameGroupBy.mean is deprecated. In a future version, numeric_only will default to False. Either specify numeric_only or select only columns which should be valid for the function.\n",
      "  df = df.resample(\"1min\").mean()\n"
     ]
    },
    {
     "data": {
      "text/plain": [
       "ts\n",
       "2022-10-25 23:55:00    0.994729\n",
       "2022-10-25 23:56:00    0.994820\n",
       "2022-10-25 23:57:00    0.994813\n",
       "2022-10-25 23:58:00    0.994751\n",
       "2022-10-25 23:59:00    0.994891\n",
       "Name: FX, dtype: float64"
      ]
     },
     "execution_count": 202,
     "metadata": {},
     "output_type": "execute_result"
    }
   ],
   "source": [
    "df = df.resample(\"1min\").mean()\n",
    "\n",
    "ts_A1 = df[df[\"Index\"].notna()]\n",
    "ts_A2 = ts_A1['Index']\n",
    "\n",
    "ts_B1 = df[df[\"FX\"].notna()]\n",
    "ts_B2 = ts_A1['FX']\n",
    "\n",
    "\n",
    "mins = (df.index[-1] - df.index[0]).seconds / (60)\n",
    "dt1 = 1 / mins\n",
    "\n",
    "ts_B2.tail()\n",
    "\n"
   ]
  },
  {
   "cell_type": "code",
   "execution_count": 203,
   "metadata": {},
   "outputs": [],
   "source": [
    "theta, mu, sigma, alloc_B = arg_max_B_alloc(ts_A2,ts_B2,dt1)"
   ]
  },
  {
   "cell_type": "code",
   "execution_count": 211,
   "metadata": {},
   "outputs": [
    {
     "data": {
      "text/plain": [
       "(0.20419935234044176, 0.030492090124698303, 0.03975767810771347, 1.0)"
      ]
     },
     "execution_count": 211,
     "metadata": {},
     "output_type": "execute_result"
    }
   ],
   "source": [
    "# theta, mu, sigma, alloc_B = (0.20419935234044176, 0.030492090124698303, 0.03975767810771347, 1.0)\n"
   ]
  },
  {
   "cell_type": "code",
   "execution_count": 204,
   "metadata": {},
   "outputs": [
    {
     "data": {
      "image/png": "[encoded data removed]",
      "text/plain": [
       "<Figure size 640x480 with 1 Axes>"
      ]
     },
     "metadata": {},
     "output_type": "display_data"
    }
   ],
   "source": [
    "compute_portfolio_values(ts_A2, ts_B2, alloc_B).plot()\n",
    "portfolio = compute_portfolio_values(ts_A2, ts_B2, alloc_B)\n",
    "\n"
   ]
  },
  {
   "cell_type": "code",
   "execution_count": 205,
   "metadata": {},
   "outputs": [],
   "source": [
    "r=0.05\n",
    "c=0.05"
   ]
  },
  {
   "cell_type": "code",
   "execution_count": 206,
   "metadata": {},
   "outputs": [
    {
     "data": {
      "text/plain": [
       "0.19761848325043777"
      ]
     },
     "execution_count": 206,
     "metadata": {},
     "output_type": "execute_result"
    }
   ],
   "source": [
    "b_star(theta, mu, sigma, r, c)"
   ]
  },
  {
   "cell_type": "code",
   "execution_count": 207,
   "metadata": {},
   "outputs": [
    {
     "data": {
      "text/plain": [
       "-0.07822167995444597"
      ]
     },
     "execution_count": 207,
     "metadata": {},
     "output_type": "execute_result"
    }
   ],
   "source": [
    "d_star(theta, mu, sigma, r, c)\n"
   ]
  },
  {
   "cell_type": "code",
   "execution_count": 208,
   "metadata": {},
   "outputs": [
    {
     "data": {
      "image/png": "[encoded data removed]",
      "text/plain": [
       "<Figure size 640x480 with 1 Axes>"
      ]
     },
     "metadata": {},
     "output_type": "display_data"
    }
   ],
   "source": [
    "import matplotlib.pyplot as plt\n",
    "\n",
    "plt.axhline(b_star(theta, mu, sigma, r, c))\n",
    "plt.axhline(d_star(theta, mu, sigma, r, c))\n",
    "\n",
    "\n",
    "plt.plot(compute_portfolio_values(ts_A2, ts_B2, alloc_B))\n",
    "\n",
    "plt.show()\n"
   ]
  },
  {
   "cell_type": "code",
   "execution_count": 209,
   "metadata": {},
   "outputs": [
    {
     "data": {
      "text/plain": [
       "ts\n",
       "2022-08-15 00:00:00    0.000000\n",
       "2022-08-15 00:01:00   -0.000135\n",
       "2022-08-15 00:02:00    0.000263\n",
       "2022-08-15 00:03:00    0.001351\n",
       "2022-08-15 00:04:00    0.001577\n",
       "dtype: float64"
      ]
     },
     "execution_count": 209,
     "metadata": {},
     "output_type": "execute_result"
    }
   ],
   "source": [
    "portfolio.head()"
   ]
  },
  {
   "cell_type": "code",
   "execution_count": 238,
   "metadata": {},
   "outputs": [],
   "source": [
    "df = pd.Series(portfolio)\n",
    "df = df.to_frame()\n",
    "\n",
    "\n",
    "df.columns = [\"price\"]\n",
    "\n",
    "df[\"buy_sell\"] = np.where((df[\"price\"]>= b_star(theta, mu, sigma, r, c) - 0.01) & (df[\"price\"]<= b_star(theta, mu, sigma, r, c) + 0.01)\n",
    "                          , -1 ,\n",
    "                           (np.where((df[\"price\"]>= b_star(theta, mu, sigma, r, c) - 0.01) & (df[\"price\"]<= b_star(theta, mu, sigma, r, c) + 0.01),\n",
    "                                      1 ,0)))"
   ]
  },
  {
   "cell_type": "code",
   "execution_count": 241,
   "metadata": {},
   "outputs": [
    {
     "data": {
      "text/html": [
       "<div>\n",
       "<style scoped>\n",
       "    .dataframe tbody tr th:only-of-type {\n",
       "        vertical-align: middle;\n",
       "    }\n",
       "\n",
       "    .dataframe tbody tr th {\n",
       "        vertical-align: top;\n",
       "    }\n",
       "\n",
       "    .dataframe thead th {\n",
       "        text-align: right;\n",
       "    }\n",
       "</style>\n",
       "<table border=\"1\" class=\"dataframe\">\n",
       "  <thead>\n",
       "    <tr style=\"text-align: right;\">\n",
       "      <th></th>\n",
       "      <th>price</th>\n",
       "      <th>buy_sell</th>\n",
       "      <th>ret</th>\n",
       "    </tr>\n",
       "    <tr>\n",
       "      <th>ts</th>\n",
       "      <th></th>\n",
       "      <th></th>\n",
       "      <th></th>\n",
       "    </tr>\n",
       "  </thead>\n",
       "  <tbody>\n",
       "    <tr>\n",
       "      <th>2022-08-15 00:00:00</th>\n",
       "      <td>0.000000</td>\n",
       "      <td>0</td>\n",
       "      <td>0.0</td>\n",
       "    </tr>\n",
       "    <tr>\n",
       "      <th>2022-08-15 00:01:00</th>\n",
       "      <td>-0.000135</td>\n",
       "      <td>0</td>\n",
       "      <td>-0.0</td>\n",
       "    </tr>\n",
       "    <tr>\n",
       "      <th>2022-08-15 00:02:00</th>\n",
       "      <td>0.000263</td>\n",
       "      <td>0</td>\n",
       "      <td>0.0</td>\n",
       "    </tr>\n",
       "    <tr>\n",
       "      <th>2022-08-15 00:03:00</th>\n",
       "      <td>0.001351</td>\n",
       "      <td>0</td>\n",
       "      <td>0.0</td>\n",
       "    </tr>\n",
       "    <tr>\n",
       "      <th>2022-08-15 00:04:00</th>\n",
       "      <td>0.001577</td>\n",
       "      <td>0</td>\n",
       "      <td>0.0</td>\n",
       "    </tr>\n",
       "    <tr>\n",
       "      <th>...</th>\n",
       "      <td>...</td>\n",
       "      <td>...</td>\n",
       "      <td>...</td>\n",
       "    </tr>\n",
       "    <tr>\n",
       "      <th>2022-10-25 23:55:00</th>\n",
       "      <td>0.066594</td>\n",
       "      <td>0</td>\n",
       "      <td>0.0</td>\n",
       "    </tr>\n",
       "    <tr>\n",
       "      <th>2022-10-25 23:56:00</th>\n",
       "      <td>0.067325</td>\n",
       "      <td>0</td>\n",
       "      <td>0.0</td>\n",
       "    </tr>\n",
       "    <tr>\n",
       "      <th>2022-10-25 23:57:00</th>\n",
       "      <td>0.067457</td>\n",
       "      <td>0</td>\n",
       "      <td>0.0</td>\n",
       "    </tr>\n",
       "    <tr>\n",
       "      <th>2022-10-25 23:58:00</th>\n",
       "      <td>0.067275</td>\n",
       "      <td>0</td>\n",
       "      <td>0.0</td>\n",
       "    </tr>\n",
       "    <tr>\n",
       "      <th>2022-10-25 23:59:00</th>\n",
       "      <td>0.068919</td>\n",
       "      <td>0</td>\n",
       "      <td>0.0</td>\n",
       "    </tr>\n",
       "  </tbody>\n",
       "</table>\n",
       "<p>73003 rows × 3 columns</p>\n",
       "</div>"
      ],
      "text/plain": [
       "                        price  buy_sell  ret\n",
       "ts                                          \n",
       "2022-08-15 00:00:00  0.000000         0  0.0\n",
       "2022-08-15 00:01:00 -0.000135         0 -0.0\n",
       "2022-08-15 00:02:00  0.000263         0  0.0\n",
       "2022-08-15 00:03:00  0.001351         0  0.0\n",
       "2022-08-15 00:04:00  0.001577         0  0.0\n",
       "...                       ...       ...  ...\n",
       "2022-10-25 23:55:00  0.066594         0  0.0\n",
       "2022-10-25 23:56:00  0.067325         0  0.0\n",
       "2022-10-25 23:57:00  0.067457         0  0.0\n",
       "2022-10-25 23:58:00  0.067275         0  0.0\n",
       "2022-10-25 23:59:00  0.068919         0  0.0\n",
       "\n",
       "[73003 rows x 3 columns]"
      ]
     },
     "execution_count": 241,
     "metadata": {},
     "output_type": "execute_result"
    }
   ],
   "source": [
    "df[\"ret\"] = df[\"price\"]*df[\"buy_sell\"]\n",
    "df\n"
   ]
  }
 ],
 "metadata": {
  "kernelspec": {
   "display_name": "Python 3",
   "language": "python",
   "name": "python3"
  },
  "language_info": {
   "codemirror_mode": {
    "name": "ipython",
    "version": 3
   },
   "file_extension": ".py",
   "mimetype": "text/x-python",
   "name": "python",
   "nbconvert_exporter": "python",
   "pygments_lexer": "ipython3",
   "version": "3.10.6"
  },
  "orig_nbformat": 4,
  "vscode": {
   "interpreter": {
    "hash": "916dbcbb3f70747c44a77c7bcd40155683ae19c65e1c03b4aa3499c5328201f1"
   }
  }
 },
 "nbformat": 4,
 "nbformat_minor": 2
}
